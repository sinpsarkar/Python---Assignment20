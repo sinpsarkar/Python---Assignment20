{
 "cells": [
  {
   "cell_type": "code",
   "execution_count": 22,
   "metadata": {},
   "outputs": [],
   "source": [
    "import numpy as np\n",
    "import pandas as pd\n",
    "import scipy.stats as stats\n",
    "import matplotlib.pyplot as plt\n",
    "import sklearn\n",
    "from sklearn.datasets import load_boston\n",
    "from sklearn.model_selection import train_test_split\n",
    "boston = load_boston()\n",
    "bos = pd.DataFrame(boston.data)"
   ]
  },
  {
   "cell_type": "code",
   "execution_count": 23,
   "metadata": {},
   "outputs": [
    {
     "data": {
      "text/html": [
       "<div>\n",
       "<style scoped>\n",
       "    .dataframe tbody tr th:only-of-type {\n",
       "        vertical-align: middle;\n",
       "    }\n",
       "\n",
       "    .dataframe tbody tr th {\n",
       "        vertical-align: top;\n",
       "    }\n",
       "\n",
       "    .dataframe thead th {\n",
       "        text-align: right;\n",
       "    }\n",
       "</style>\n",
       "<table border=\"1\" class=\"dataframe\">\n",
       "  <thead>\n",
       "    <tr style=\"text-align: right;\">\n",
       "      <th></th>\n",
       "      <th>0</th>\n",
       "      <th>1</th>\n",
       "      <th>2</th>\n",
       "      <th>3</th>\n",
       "      <th>4</th>\n",
       "      <th>5</th>\n",
       "      <th>6</th>\n",
       "      <th>7</th>\n",
       "      <th>8</th>\n",
       "      <th>9</th>\n",
       "      <th>10</th>\n",
       "      <th>11</th>\n",
       "      <th>12</th>\n",
       "    </tr>\n",
       "  </thead>\n",
       "  <tbody>\n",
       "    <tr>\n",
       "      <th>0</th>\n",
       "      <td>0.00632</td>\n",
       "      <td>18.0</td>\n",
       "      <td>2.31</td>\n",
       "      <td>0.0</td>\n",
       "      <td>0.538</td>\n",
       "      <td>6.575</td>\n",
       "      <td>65.2</td>\n",
       "      <td>4.0900</td>\n",
       "      <td>1.0</td>\n",
       "      <td>296.0</td>\n",
       "      <td>15.3</td>\n",
       "      <td>396.90</td>\n",
       "      <td>4.98</td>\n",
       "    </tr>\n",
       "    <tr>\n",
       "      <th>1</th>\n",
       "      <td>0.02731</td>\n",
       "      <td>0.0</td>\n",
       "      <td>7.07</td>\n",
       "      <td>0.0</td>\n",
       "      <td>0.469</td>\n",
       "      <td>6.421</td>\n",
       "      <td>78.9</td>\n",
       "      <td>4.9671</td>\n",
       "      <td>2.0</td>\n",
       "      <td>242.0</td>\n",
       "      <td>17.8</td>\n",
       "      <td>396.90</td>\n",
       "      <td>9.14</td>\n",
       "    </tr>\n",
       "    <tr>\n",
       "      <th>2</th>\n",
       "      <td>0.02729</td>\n",
       "      <td>0.0</td>\n",
       "      <td>7.07</td>\n",
       "      <td>0.0</td>\n",
       "      <td>0.469</td>\n",
       "      <td>7.185</td>\n",
       "      <td>61.1</td>\n",
       "      <td>4.9671</td>\n",
       "      <td>2.0</td>\n",
       "      <td>242.0</td>\n",
       "      <td>17.8</td>\n",
       "      <td>392.83</td>\n",
       "      <td>4.03</td>\n",
       "    </tr>\n",
       "    <tr>\n",
       "      <th>3</th>\n",
       "      <td>0.03237</td>\n",
       "      <td>0.0</td>\n",
       "      <td>2.18</td>\n",
       "      <td>0.0</td>\n",
       "      <td>0.458</td>\n",
       "      <td>6.998</td>\n",
       "      <td>45.8</td>\n",
       "      <td>6.0622</td>\n",
       "      <td>3.0</td>\n",
       "      <td>222.0</td>\n",
       "      <td>18.7</td>\n",
       "      <td>394.63</td>\n",
       "      <td>2.94</td>\n",
       "    </tr>\n",
       "    <tr>\n",
       "      <th>4</th>\n",
       "      <td>0.06905</td>\n",
       "      <td>0.0</td>\n",
       "      <td>2.18</td>\n",
       "      <td>0.0</td>\n",
       "      <td>0.458</td>\n",
       "      <td>7.147</td>\n",
       "      <td>54.2</td>\n",
       "      <td>6.0622</td>\n",
       "      <td>3.0</td>\n",
       "      <td>222.0</td>\n",
       "      <td>18.7</td>\n",
       "      <td>396.90</td>\n",
       "      <td>5.33</td>\n",
       "    </tr>\n",
       "  </tbody>\n",
       "</table>\n",
       "</div>"
      ],
      "text/plain": [
       "        0     1     2    3      4      5     6       7    8      9     10  \\\n",
       "0  0.00632  18.0  2.31  0.0  0.538  6.575  65.2  4.0900  1.0  296.0  15.3   \n",
       "1  0.02731   0.0  7.07  0.0  0.469  6.421  78.9  4.9671  2.0  242.0  17.8   \n",
       "2  0.02729   0.0  7.07  0.0  0.469  7.185  61.1  4.9671  2.0  242.0  17.8   \n",
       "3  0.03237   0.0  2.18  0.0  0.458  6.998  45.8  6.0622  3.0  222.0  18.7   \n",
       "4  0.06905   0.0  2.18  0.0  0.458  7.147  54.2  6.0622  3.0  222.0  18.7   \n",
       "\n",
       "       11    12  \n",
       "0  396.90  4.98  \n",
       "1  396.90  9.14  \n",
       "2  392.83  4.03  \n",
       "3  394.63  2.94  \n",
       "4  396.90  5.33  "
      ]
     },
     "execution_count": 23,
     "metadata": {},
     "output_type": "execute_result"
    }
   ],
   "source": [
    "bos.head()"
   ]
  },
  {
   "cell_type": "code",
   "execution_count": 24,
   "metadata": {},
   "outputs": [
    {
     "data": {
      "text/html": [
       "<div>\n",
       "<style scoped>\n",
       "    .dataframe tbody tr th:only-of-type {\n",
       "        vertical-align: middle;\n",
       "    }\n",
       "\n",
       "    .dataframe tbody tr th {\n",
       "        vertical-align: top;\n",
       "    }\n",
       "\n",
       "    .dataframe thead th {\n",
       "        text-align: right;\n",
       "    }\n",
       "</style>\n",
       "<table border=\"1\" class=\"dataframe\">\n",
       "  <thead>\n",
       "    <tr style=\"text-align: right;\">\n",
       "      <th></th>\n",
       "      <th>CRIM</th>\n",
       "      <th>ZN</th>\n",
       "      <th>INDUS</th>\n",
       "      <th>CHAS</th>\n",
       "      <th>NOX</th>\n",
       "      <th>RM</th>\n",
       "      <th>AGE</th>\n",
       "      <th>DIS</th>\n",
       "      <th>RAD</th>\n",
       "      <th>TAX</th>\n",
       "      <th>PTRATIO</th>\n",
       "      <th>B</th>\n",
       "      <th>LSTAT</th>\n",
       "      <th>PRICE</th>\n",
       "    </tr>\n",
       "  </thead>\n",
       "  <tbody>\n",
       "    <tr>\n",
       "      <th>0</th>\n",
       "      <td>0.00632</td>\n",
       "      <td>18.0</td>\n",
       "      <td>2.31</td>\n",
       "      <td>0.0</td>\n",
       "      <td>0.538</td>\n",
       "      <td>6.575</td>\n",
       "      <td>65.2</td>\n",
       "      <td>4.0900</td>\n",
       "      <td>1.0</td>\n",
       "      <td>296.0</td>\n",
       "      <td>15.3</td>\n",
       "      <td>396.90</td>\n",
       "      <td>4.98</td>\n",
       "      <td>24.0</td>\n",
       "    </tr>\n",
       "    <tr>\n",
       "      <th>1</th>\n",
       "      <td>0.02731</td>\n",
       "      <td>0.0</td>\n",
       "      <td>7.07</td>\n",
       "      <td>0.0</td>\n",
       "      <td>0.469</td>\n",
       "      <td>6.421</td>\n",
       "      <td>78.9</td>\n",
       "      <td>4.9671</td>\n",
       "      <td>2.0</td>\n",
       "      <td>242.0</td>\n",
       "      <td>17.8</td>\n",
       "      <td>396.90</td>\n",
       "      <td>9.14</td>\n",
       "      <td>21.6</td>\n",
       "    </tr>\n",
       "    <tr>\n",
       "      <th>2</th>\n",
       "      <td>0.02729</td>\n",
       "      <td>0.0</td>\n",
       "      <td>7.07</td>\n",
       "      <td>0.0</td>\n",
       "      <td>0.469</td>\n",
       "      <td>7.185</td>\n",
       "      <td>61.1</td>\n",
       "      <td>4.9671</td>\n",
       "      <td>2.0</td>\n",
       "      <td>242.0</td>\n",
       "      <td>17.8</td>\n",
       "      <td>392.83</td>\n",
       "      <td>4.03</td>\n",
       "      <td>34.7</td>\n",
       "    </tr>\n",
       "    <tr>\n",
       "      <th>3</th>\n",
       "      <td>0.03237</td>\n",
       "      <td>0.0</td>\n",
       "      <td>2.18</td>\n",
       "      <td>0.0</td>\n",
       "      <td>0.458</td>\n",
       "      <td>6.998</td>\n",
       "      <td>45.8</td>\n",
       "      <td>6.0622</td>\n",
       "      <td>3.0</td>\n",
       "      <td>222.0</td>\n",
       "      <td>18.7</td>\n",
       "      <td>394.63</td>\n",
       "      <td>2.94</td>\n",
       "      <td>33.4</td>\n",
       "    </tr>\n",
       "    <tr>\n",
       "      <th>4</th>\n",
       "      <td>0.06905</td>\n",
       "      <td>0.0</td>\n",
       "      <td>2.18</td>\n",
       "      <td>0.0</td>\n",
       "      <td>0.458</td>\n",
       "      <td>7.147</td>\n",
       "      <td>54.2</td>\n",
       "      <td>6.0622</td>\n",
       "      <td>3.0</td>\n",
       "      <td>222.0</td>\n",
       "      <td>18.7</td>\n",
       "      <td>396.90</td>\n",
       "      <td>5.33</td>\n",
       "      <td>36.2</td>\n",
       "    </tr>\n",
       "  </tbody>\n",
       "</table>\n",
       "</div>"
      ],
      "text/plain": [
       "      CRIM    ZN  INDUS  CHAS    NOX     RM   AGE     DIS  RAD    TAX  \\\n",
       "0  0.00632  18.0   2.31   0.0  0.538  6.575  65.2  4.0900  1.0  296.0   \n",
       "1  0.02731   0.0   7.07   0.0  0.469  6.421  78.9  4.9671  2.0  242.0   \n",
       "2  0.02729   0.0   7.07   0.0  0.469  7.185  61.1  4.9671  2.0  242.0   \n",
       "3  0.03237   0.0   2.18   0.0  0.458  6.998  45.8  6.0622  3.0  222.0   \n",
       "4  0.06905   0.0   2.18   0.0  0.458  7.147  54.2  6.0622  3.0  222.0   \n",
       "\n",
       "   PTRATIO       B  LSTAT  PRICE  \n",
       "0     15.3  396.90   4.98   24.0  \n",
       "1     17.8  396.90   9.14   21.6  \n",
       "2     17.8  392.83   4.03   34.7  \n",
       "3     18.7  394.63   2.94   33.4  \n",
       "4     18.7  396.90   5.33   36.2  "
      ]
     },
     "execution_count": 24,
     "metadata": {},
     "output_type": "execute_result"
    }
   ],
   "source": [
    "#Rename the columns with feature names\n",
    "bos.columns = boston.feature_names\n",
    "\n",
    "#Add the price column to the bos\n",
    "bos['PRICE'] = boston.target\n",
    "bos.head()"
   ]
  },
  {
   "cell_type": "code",
   "execution_count": 25,
   "metadata": {},
   "outputs": [
    {
     "name": "stdout",
     "output_type": "stream",
     "text": [
      "X [[6.3200e-03 1.8000e+01 2.3100e+00 ... 1.5300e+01 3.9690e+02 4.9800e+00]\n",
      " [2.7310e-02 0.0000e+00 7.0700e+00 ... 1.7800e+01 3.9690e+02 9.1400e+00]\n",
      " [2.7290e-02 0.0000e+00 7.0700e+00 ... 1.7800e+01 3.9283e+02 4.0300e+00]\n",
      " ...\n",
      " [6.0760e-02 0.0000e+00 1.1930e+01 ... 2.1000e+01 3.9690e+02 5.6400e+00]\n",
      " [1.0959e-01 0.0000e+00 1.1930e+01 ... 2.1000e+01 3.9345e+02 6.4800e+00]\n",
      " [4.7410e-02 0.0000e+00 1.1930e+01 ... 2.1000e+01 3.9690e+02 7.8800e+00]]\n"
     ]
    }
   ],
   "source": [
    "#independent features\n",
    "X = bos.iloc[:, :-1].values\n",
    "print('X', X)"
   ]
  },
  {
   "cell_type": "code",
   "execution_count": 26,
   "metadata": {},
   "outputs": [
    {
     "name": "stdout",
     "output_type": "stream",
     "text": [
      "y [24.  21.6 34.7 33.4 36.2 28.7 22.9 27.1 16.5 18.9 15.  18.9 21.7 20.4\n",
      " 18.2 19.9 23.1 17.5 20.2 18.2 13.6 19.6 15.2 14.5 15.6 13.9 16.6 14.8\n",
      " 18.4 21.  12.7 14.5 13.2 13.1 13.5 18.9 20.  21.  24.7 30.8 34.9 26.6\n",
      " 25.3 24.7 21.2 19.3 20.  16.6 14.4 19.4 19.7 20.5 25.  23.4 18.9 35.4\n",
      " 24.7 31.6 23.3 19.6 18.7 16.  22.2 25.  33.  23.5 19.4 22.  17.4 20.9\n",
      " 24.2 21.7 22.8 23.4 24.1 21.4 20.  20.8 21.2 20.3 28.  23.9 24.8 22.9\n",
      " 23.9 26.6 22.5 22.2 23.6 28.7 22.6 22.  22.9 25.  20.6 28.4 21.4 38.7\n",
      " 43.8 33.2 27.5 26.5 18.6 19.3 20.1 19.5 19.5 20.4 19.8 19.4 21.7 22.8\n",
      " 18.8 18.7 18.5 18.3 21.2 19.2 20.4 19.3 22.  20.3 20.5 17.3 18.8 21.4\n",
      " 15.7 16.2 18.  14.3 19.2 19.6 23.  18.4 15.6 18.1 17.4 17.1 13.3 17.8\n",
      " 14.  14.4 13.4 15.6 11.8 13.8 15.6 14.6 17.8 15.4 21.5 19.6 15.3 19.4\n",
      " 17.  15.6 13.1 41.3 24.3 23.3 27.  50.  50.  50.  22.7 25.  50.  23.8\n",
      " 23.8 22.3 17.4 19.1 23.1 23.6 22.6 29.4 23.2 24.6 29.9 37.2 39.8 36.2\n",
      " 37.9 32.5 26.4 29.6 50.  32.  29.8 34.9 37.  30.5 36.4 31.1 29.1 50.\n",
      " 33.3 30.3 34.6 34.9 32.9 24.1 42.3 48.5 50.  22.6 24.4 22.5 24.4 20.\n",
      " 21.7 19.3 22.4 28.1 23.7 25.  23.3 28.7 21.5 23.  26.7 21.7 27.5 30.1\n",
      " 44.8 50.  37.6 31.6 46.7 31.5 24.3 31.7 41.7 48.3 29.  24.  25.1 31.5\n",
      " 23.7 23.3 22.  20.1 22.2 23.7 17.6 18.5 24.3 20.5 24.5 26.2 24.4 24.8\n",
      " 29.6 42.8 21.9 20.9 44.  50.  36.  30.1 33.8 43.1 48.8 31.  36.5 22.8\n",
      " 30.7 50.  43.5 20.7 21.1 25.2 24.4 35.2 32.4 32.  33.2 33.1 29.1 35.1\n",
      " 45.4 35.4 46.  50.  32.2 22.  20.1 23.2 22.3 24.8 28.5 37.3 27.9 23.9\n",
      " 21.7 28.6 27.1 20.3 22.5 29.  24.8 22.  26.4 33.1 36.1 28.4 33.4 28.2\n",
      " 22.8 20.3 16.1 22.1 19.4 21.6 23.8 16.2 17.8 19.8 23.1 21.  23.8 23.1\n",
      " 20.4 18.5 25.  24.6 23.  22.2 19.3 22.6 19.8 17.1 19.4 22.2 20.7 21.1\n",
      " 19.5 18.5 20.6 19.  18.7 32.7 16.5 23.9 31.2 17.5 17.2 23.1 24.5 26.6\n",
      " 22.9 24.1 18.6 30.1 18.2 20.6 17.8 21.7 22.7 22.6 25.  19.9 20.8 16.8\n",
      " 21.9 27.5 21.9 23.1 50.  50.  50.  50.  50.  13.8 13.8 15.  13.9 13.3\n",
      " 13.1 10.2 10.4 10.9 11.3 12.3  8.8  7.2 10.5  7.4 10.2 11.5 15.1 23.2\n",
      "  9.7 13.8 12.7 13.1 12.5  8.5  5.   6.3  5.6  7.2 12.1  8.3  8.5  5.\n",
      " 11.9 27.9 17.2 27.5 15.  17.2 17.9 16.3  7.   7.2  7.5 10.4  8.8  8.4\n",
      " 16.7 14.2 20.8 13.4 11.7  8.3 10.2 10.9 11.   9.5 14.5 14.1 16.1 14.3\n",
      " 11.7 13.4  9.6  8.7  8.4 12.8 10.5 17.1 18.4 15.4 10.8 11.8 14.9 12.6\n",
      " 14.1 13.  13.4 15.2 16.1 17.8 14.9 14.1 12.7 13.5 14.9 20.  16.4 17.7\n",
      " 19.5 20.2 21.4 19.9 19.  19.1 19.1 20.1 19.9 19.6 23.2 29.8 13.8 13.3\n",
      " 16.7 12.  14.6 21.4 23.  23.7 25.  21.8 20.6 21.2 19.1 20.6 15.2  7.\n",
      "  8.1 13.6 20.1 21.8 24.5 23.1 19.7 18.3 21.2 17.5 16.8 22.4 20.6 23.9\n",
      " 22.  11.9]\n"
     ]
    }
   ],
   "source": [
    "#Dependent Variable\n",
    "y = bos.iloc[:, -1].values\n",
    "print('y', y)"
   ]
  },
  {
   "cell_type": "code",
   "execution_count": 27,
   "metadata": {},
   "outputs": [],
   "source": [
    "#Split sample in Test and Train\n",
    "X_train, X_test, y_train, y_test = train_test_split(X, y, test_size = 0.2, random_state = 3)"
   ]
  },
  {
   "cell_type": "code",
   "execution_count": 31,
   "metadata": {},
   "outputs": [
    {
     "name": "stdout",
     "output_type": "stream",
     "text": [
      "X_train:\n",
      "[[9.51363e+00 0.00000e+00 1.81000e+01 ... 2.02000e+01 6.68000e+00\n",
      "  1.87100e+01]\n",
      " [4.03841e+00 0.00000e+00 1.81000e+01 ... 2.02000e+01 3.95330e+02\n",
      "  1.28700e+01]\n",
      " [3.70500e-02 2.00000e+01 3.33000e+00 ... 1.49000e+01 3.92230e+02\n",
      "  4.59000e+00]\n",
      " ...\n",
      " [1.90730e-01 2.20000e+01 5.86000e+00 ... 1.91000e+01 3.93740e+02\n",
      "  6.56000e+00]\n",
      " [1.12658e+00 0.00000e+00 1.95800e+01 ... 1.47000e+01 3.43280e+02\n",
      "  1.21200e+01]\n",
      " [3.67822e+00 0.00000e+00 1.81000e+01 ... 2.02000e+01 3.80790e+02\n",
      "  1.01900e+01]]\n",
      "X_test:\n",
      "[[3.15330e-01 0.00000e+00 6.20000e+00 ... 1.74000e+01 3.85050e+02\n",
      "  4.14000e+00]\n",
      " [3.52330e-01 0.00000e+00 2.18900e+01 ... 2.12000e+01 3.94080e+02\n",
      "  1.45900e+01]\n",
      " [8.24809e+00 0.00000e+00 1.81000e+01 ... 2.02000e+01 3.75870e+02\n",
      "  1.67400e+01]\n",
      " ...\n",
      " [7.50300e-02 3.30000e+01 2.18000e+00 ... 1.84000e+01 3.96900e+02\n",
      "  6.47000e+00]\n",
      " [5.82115e+00 0.00000e+00 1.81000e+01 ... 2.02000e+01 3.93820e+02\n",
      "  1.02900e+01]\n",
      " [3.46600e-02 3.50000e+01 6.06000e+00 ... 1.69000e+01 3.62250e+02\n",
      "  7.83000e+00]]\n",
      "y_train:\n",
      "[14.9 19.6 35.4 12.  20.4 23.7 21.  50.  27.5 12.7 17.4 23.8 22.9 18.5\n",
      " 30.3 31.2 16.  23.3 15.  10.2 12.5 19.6 19.7 19.5 15.  35.4 13.5 20.6\n",
      " 24.7 21.9 17.1 23.6 21.1 15.6 18.5  8.3 14.5 23.9 11.8 24.6 24.8 18.7\n",
      " 17.9 48.8 13.  29.6 18.  20.1 17.3 23.1 22.6 13.8 43.8 35.2 22.6 17.4\n",
      " 48.5 31.5 15.6 14.2 20.6 22.  20.1 17.6 23.7 14.1 19.8 24.4 33.4 39.8\n",
      " 34.9 24.8 14.6 23.4 33.8 23.9  9.6 21.8 31.6 14.5  7.2 24.1 21.4 17.2\n",
      " 46.  23.1 14.5 20.5 17.  48.3 30.5 20.6 20.2 27.1 19.7 24.7 31.1 22.3\n",
      " 29.8 13.6 28.7 21.4 13.4 16.6 20.  24.2 20.6 20.3 12.7 18.9 17.8  7.\n",
      " 16.1 22.5 18.3 13.9 50.  50.  13.8 23.5 32.2 19.3  9.5 22.2 24.5 12.1\n",
      " 20.1 23.2 19.1 43.5 17.4 19.6 20.8 36.1 14.1 25.1  7.5 11.9 23.3 21.4\n",
      " 46.7 25.3 36.2 20.3 23.8 14.  20.9 33.  19.8 19.4 35.1 20.4 22.6  7.2\n",
      " 18.3 22.9 43.1 28.4 30.1 20.5 21.2  8.5 19.6 28.5 50.  19.  22.8 14.3\n",
      " 23.  15.6 29.  26.4 34.9 26.6 23.7  8.3 10.9 31.7 18.5 14.1 16.4 19.9\n",
      " 31.  21.  23.7 24.4 50.  15.4 10.9 13.3 20.6 17.5 21.7 26.6 32.  28.7\n",
      " 10.5 13.5 28.7 22.8 26.7  7.2 13.1 19.9 21.7 34.6 28.1 15.4 29.   8.1\n",
      " 24.1 13.8 21.4 23.8 20.3 25.  27.5 28.4 20.4 17.5 27.5 24.3 23.2 22.5\n",
      " 22.6 28.2 22.2 23.1 30.8 22.5 36.2 17.5 13.8 24.3 17.2 50.  50.  30.1\n",
      " 32.9 27.9 21.7  8.8  8.4 21.9 13.1 25.  19.1 15.1 18.4 18.7 17.7 21.8\n",
      " 27.5 18.2  7.4 19.  36.5 33.2 16.5 20.3 50.  16.7 22.9 29.6 13.2 18.1\n",
      " 15.2 22.2 15.2 25.  19.1 11.7 50.  25.   8.8 23.6 18.9 29.9 23.8 37.6\n",
      " 22.  32.  21.2 24.8 25.  20.  24.4 50.  22.4 50.  22.1 23.3  8.4 18.9\n",
      " 27.9 10.2 22.  28.6 20.1 19.4  8.7 21.2 22.  37.9 16.2 20.  23.1 41.7\n",
      " 29.8 20.  13.1 34.7 22.2 22.8 24.8 14.4  7.  14.4 30.1 18.6 32.5 17.1\n",
      " 14.9 20.6 27.  19.5  5.6 23.  33.2 10.4 24.  13.4 19.2 32.7 21.6 18.7\n",
      " 19.5 22.6 42.8 10.8 22.4 26.4 25.  50.  32.4 36.4 24.  18.9 15.  18.4\n",
      " 24.4 12.3 20.1 19.4 22.9 13.6 23.9 23.2 21.1 10.2 13.1 19.1 27.1 23.1\n",
      " 22.  19.5 16.3 38.7 21.7 25.  20.9 17.2 13.4 14.3 17.8 12.6 36.  20.4\n",
      " 21.5 13.8 18.5 16.6  5.  13.4 25.  11.  17.8 23.  20.8 19.3  5.  13.3\n",
      " 22.3 16.8 42.3 14.6 33.1 44.  12.7 10.5 19.6 26.2 15.3 20.8]\n",
      "y_test:\n",
      "[44.8 17.1 17.8 33.1 21.9 21.  18.4 10.4 23.1 20.  15.7 41.3 33.3 30.7\n",
      "  8.5  6.3 21.2 16.2 15.6 24.1 23.9 50.  23.2 23.4 12.8 24.6 18.8 16.1\n",
      " 18.2 24.3 14.8 37.3 21.4 18.6 18.8 13.9 24.5 31.5 18.2 20.7 19.4  9.7\n",
      " 21.5 14.9 21.7 26.5 20.7 19.3 24.5 19.3 26.6 23.  45.4 19.8 22.7 23.1\n",
      " 50.  17.8 29.1 19.2 22.7 21.2 37.2 31.6 16.1 22.2 34.9 20.5 28.  29.1\n",
      " 24.7 22.  15.6 37.  11.8 21.7 19.4 23.3 16.5 16.7 23.9 15.2 11.9 19.9\n",
      " 22.8 11.3 25.2 11.5 22.  21.6 19.9 16.8 19.3 50.  29.4 13.3 50.  11.7\n",
      " 21.7 33.4 20.2 19.4]\n"
     ]
    }
   ],
   "source": [
    "print('X_train:')\n",
    "print(X_train)\n",
    "print('X_test:')\n",
    "print(X_test)\n",
    "print('y_train:')\n",
    "print(y_train)\n",
    "print('y_test:')\n",
    "print(y_test)"
   ]
  },
  {
   "cell_type": "code",
   "execution_count": 32,
   "metadata": {},
   "outputs": [
    {
     "data": {
      "text/plain": [
       "LinearRegression(copy_X=True, fit_intercept=True, n_jobs=None,\n",
       "         normalize=False)"
      ]
     },
     "execution_count": 32,
     "metadata": {},
     "output_type": "execute_result"
    }
   ],
   "source": [
    "# Fitting Simple Linear Regression to the Training set\n",
    "from sklearn.linear_model import LinearRegression \n",
    "regressor = LinearRegression()\n",
    "regressor.fit(X_train, y_train)"
   ]
  },
  {
   "cell_type": "code",
   "execution_count": 34,
   "metadata": {},
   "outputs": [],
   "source": [
    "# Predicting the Test set results\n",
    "y_pred = regressor.predict(X_test)"
   ]
  },
  {
   "cell_type": "code",
   "execution_count": 35,
   "metadata": {},
   "outputs": [
    {
     "name": "stdout",
     "output_type": "stream",
     "text": [
      "y_pred [37.54157616 18.76483601 22.36983893 32.80195443 24.28067045 23.45046273\n",
      " 18.97004495  7.25837229 20.90563109 17.85625667 13.9909041  31.84086213\n",
      " 36.06002933 31.32636351  7.69171028 11.84051203 23.47421328 14.89222846\n",
      " 12.83531594 29.68317709 26.89848085 35.17415212 27.19221597 24.11468978\n",
      " 13.72103765 24.90234939 20.91816609 19.04157959 19.24815482 24.59866318\n",
      " 14.91248208 34.33862834 21.63486788 19.51442392 19.44037044 17.93274664\n",
      " 21.43643542 32.19385315 15.33264981 21.78729365 17.11914571 10.65530927\n",
      " 25.25887578 17.36938898 23.61750096 25.47691582 26.52763383 18.05278142\n",
      " 27.89991866 20.44038605 22.56142476 19.31700397 38.05825036 18.59432531\n",
      " 23.13389736 10.86837032 35.5345575  16.10257158 31.68627765 19.34112466\n",
      " 24.0016557  22.33684728 32.69725069 33.13643652 21.19554198 25.92317625\n",
      " 34.3579198  23.85834383 28.44266217 30.40184668 24.87131877 27.30028935\n",
      " 20.49985311 31.01319689 12.21681845 22.91695321 26.1283221  24.90393823\n",
      " 22.44821319 19.5255753  26.77496966 19.53931156  8.6304506  19.52676153\n",
      " 26.32882381 13.99316161 27.39744284 14.70340804 21.54244739 25.16390603\n",
      " 19.19181992 20.73533902 21.95001867 38.8565458  30.89223235 16.32674997\n",
      " 42.81813653 15.77586729 24.01659868 35.28451791 22.34356117 23.6345439 ]\n"
     ]
    }
   ],
   "source": [
    "print('y_pred', y_pred)"
   ]
  },
  {
   "cell_type": "code",
   "execution_count": 38,
   "metadata": {},
   "outputs": [
    {
     "name": "stdout",
     "output_type": "stream",
     "text": [
      "predicted test score: 0.7952617563243856\n"
     ]
    }
   ],
   "source": [
    "#calculating the accuracy of model using r2_score \n",
    "from sklearn.metrics import r2_score\n",
    "score=r2_score(y_test,y_pred)\n",
    "print('predicted test score:', score)"
   ]
  },
  {
   "cell_type": "code",
   "execution_count": 39,
   "metadata": {},
   "outputs": [
    {
     "data": {
      "image/png": "[encoded data removed]",
      "text/plain": [
       "<Figure size 432x288 with 1 Axes>"
      ]
     },
     "metadata": {
      "needs_background": "light"
     },
     "output_type": "display_data"
    }
   ],
   "source": [
    "#plotting the expected value v/s predicted value\n",
    "plt.scatter(y_test,y_pred,color='blue')\n",
    "plt.title('expected value v/s predicted value')\n",
    "plt.xlabel('expected value')\n",
    "plt.ylabel('predicted value')\n",
    "plt.show()"
   ]
  }
 ],
 "metadata": {
  "kernelspec": {
   "display_name": "Python 3",
   "language": "python",
   "name": "python3"
  },
  "language_info": {
   "codemirror_mode": {
    "name": "ipython",
    "version": 3
   },
   "file_extension": ".py",
   "mimetype": "text/x-python",
   "name": "python",
   "nbconvert_exporter": "python",
   "pygments_lexer": "ipython3",
   "version": "3.7.1"
  }
 },
 "nbformat": 4,
 "nbformat_minor": 2
}
